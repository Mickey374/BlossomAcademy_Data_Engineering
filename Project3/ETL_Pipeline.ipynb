{
 "cells": [
  {
   "cell_type": "code",
   "execution_count": 1,
   "metadata": {},
   "outputs": [],
   "source": [
    "from pyspark.sql import SparkSession\n",
    "from pyspark.sql.types import StructType, StructField, StringType, DateType, DecimalType, IntegerType \n",
    "from pyspark.sql.functions import element_at, split, col, udf"
   ]
  },
  {
   "cell_type": "code",
   "execution_count": 2,
   "metadata": {},
   "outputs": [],
   "source": [
    "spark = (\n",
    "    SparkSession.builder\n",
    "                .appName(\"Stack Overflow Data Wrangling\")\n",
    "                .config(\"spark.jars\", \"postgresql-42.2.8.jar\") \n",
    "                .getOrCreate()\n",
    ")"
   ]
  },
  {
   "cell_type": "markdown",
   "metadata": {},
   "source": [
    "spark = (\n",
    "    SparkSession.builder\n",
    "                .appName(\"Stack Overflow Data Wrangling\")\n",
    "                .config(\"spark.jars\", \"C:/Users/USER/Desktop/Blossom_Academy/jars/postgresql-42.2.8.jar\") \n",
    "                .getOrCreate())"
   ]
  },
  {
   "cell_type": "markdown",
   "metadata": {},
   "source": [
    "spark = SparkSession.builder.master(\"local[*]\").appName(\"ETL Pipeline\").getOrCreate()"
   ]
  },
  {
   "cell_type": "code",
   "execution_count": 3,
   "metadata": {},
   "outputs": [],
   "source": [
    "# Set Logging Level to WARN\n",
    "spark.sparkContext.setLogLevel(\"WARN\")"
   ]
  },
  {
   "cell_type": "code",
   "execution_count": 5,
   "metadata": {},
   "outputs": [],
   "source": [
    "#Loading the questions dataset\n",
    "answers = spark.read.csv('C:/Users/USER/Desktop/Blossom_Academy/stackoverflow/answers.csv', header = True, inferSchema =True, multiLine = True, escape='\"')\n",
    "users = spark.read.csv('C:/Users/USER/Desktop/Blossom_Academy/stackoverflow/users.csv', header = True, inferSchema =True, multiLine = True, escape='\"')\n",
    "questions = spark.read.csv('C:/Users/USER/Desktop/Blossom_Academy/stackoverflow/questions.csv', header = True, inferSchema =True, multiLine = True, escape='\"')"
   ]
  },
  {
   "cell_type": "code",
   "execution_count": 6,
   "metadata": {
    "collapsed": true
   },
   "outputs": [
    {
     "data": {
      "text/plain": [
       "[Row(id=53999517, user_id=1771994, question_id=53999275, body='<p>The <code>for..of</code> loop you have in your code isn\\'t needed. Just use the code you already have and <code>num</code> as the <code>quotes</code> array index value. I added button to demonstrate how the function will only return a single value:</p>\\n\\n<p><div class=\"snippet\" data-lang=\"js\" data-hide=\"false\" data-console=\"true\" data-babel=\"false\">\\n<div class=\"snippet-code\">\\n<pre class=\"snippet-code-js lang-js prettyprint-override\"><code>function randomQuote() {\\n  const quotes = document.querySelectorAll(\"p\");\\n  const num = (Math.floor(Math.random() * Math.floor(quotes.length)));\\n  return quotes[num].innerText;\\n}\\n\\ndocument.querySelector(\\'#buttonEl\\').addEventListener(\\'click\\', () =&gt; {\\n  document.querySelector(\\'#quoteEl\\').innerHTML = randomQuote();\\n});</code></pre>\\n<pre class=\"snippet-code-css lang-css prettyprint-override\"><code>#quoteEl {\\n  color: red;\\n}</code></pre>\\n<pre class=\"snippet-code-html lang-html prettyprint-override\"><code>&lt;input id=\"buttonEl\" type=\"button\" value=\"Click for a random quote from the list below\" /&gt;\\n&lt;div id=\"quoteEl\"&gt;&lt;/div&gt;\\n&lt;p&gt;&amp;#8220;&lt;a href=\"https://theunboundedspirit.com/ananda-coomaraswamy-quotes/\"&gt;Art&lt;/a&gt; is the supreme task and the truly metaphysical activity in this life.&amp;#8221;&lt;/p&gt;\\n&lt;p&gt;&amp;#8220;Underneath this reality in which we live and have our being, another and altogether different reality lies concealed.&amp;#8221;&lt;/p&gt;\\n&lt;p&gt;&amp;#8220;We obtain the concept, as we do the form, by overlooking what is individual and actual; whereas nature is acquainted with no forms and no concepts, and likewise with no species, but only with an X which remains inaccessible and undefinable for\\n  us.&amp;#8221;\\n&lt;/p&gt;\\n&lt;p&gt;&amp;#8220;Everything which distinguishes man from the animals depends upon this ability to volatilize perceptual metaphors in a schema, and thus to dissolve an image into a concept.&amp;#8221;&lt;/p&gt;\\n&lt;p&gt;&amp;#8220;Our destiny exercises its influence over us even when, as yet, we have not learned its nature: it is our future that lays down the law of our today.&amp;#8221;&lt;/p&gt;</code></pre>\\n</div>\\n</div>\\n</p>\\n', score=0, comment_count=0, created_at=datetime.datetime(2019, 1, 1, 22, 42, 2)),\n",
       " Row(id=54005064, user_id=948762, question_id=54004882, body='<p>This is because <code>setInterval()</code> <code>this</code> object is not same as  vue.js <code>this</code>, since they have different scopes. </p>\\n\\n<p>Try to assign <code>this</code> object to new variable before entering the problematic function\\'s scope. </p>\\n\\n<pre><code>let self = this;\\ntvTimer()\\n  {\\n     setInterval(function() {\\n        self.timer++;\\n\\n        if (self.timer == self.pages[self.current_page].interval) {\\n           console.log(\\'it is time!!\\');\\n        }\\n\\n        console.log(self.pages[self.current_page].page);\\n     }, 1000);\\n  },\\n</code></pre>\\n\\n<p>See: <a href=\"https://developer.mozilla.org/en-US/docs/Glossary/Scope\" rel=\"nofollow noreferrer\">https://developer.mozilla.org/en-US/docs/Glossary/Scope</a> </p>\\n', score=0, comment_count=0, created_at=datetime.datetime(2019, 1, 2, 10, 55, 21)),\n",
       " Row(id=53995281, user_id=5159168, question_id=53995029, body='<p>The simplest method I can think of (except for Magnus approach) is probably array_diff_key.<br>\\nI add this answer as someone else may need a non DB solution later.</p>\\n\\n<p>Create a range of possible numeric keys.<br>\\nI created 100, change to suit your needs.</p>\\n\\n<pre><code>$range = range(0,100); \\n\\nforeach($arr as &amp;$sub){\\n    $sub = array_diff_key($sub, $range);\\n}\\n</code></pre>\\n\\n<p>This will loop through each subarray and filter out any numeric keys from 0-100.</p>\\n', score=0, comment_count=0, created_at=datetime.datetime(2019, 1, 1, 12, 4, 45)),\n",
       " Row(id=54000208, user_id=7964527, question_id=54000128, body=\"<p>Using <code>rowSums</code></p>\\n\\n<pre><code>df[rowSums(df[,c('dht','dwt')]==99|df[,c('dht','dwt')]==999)==0,]\\n  ded dht dwt\\n1   5  65 110\\n2   5  70 148\\n6   4  98 998\\n</code></pre>\\n\", score=0, comment_count=0, created_at=datetime.datetime(2019, 1, 2, 1, 12, 19)),\n",
       " Row(id=54005110, user_id=9653876, question_id=54003879, body='<p>Check your <strong>IP Address</strong> is <strong>white listed</strong> under <strong>MongoDB Atlas  Cluster>Security tab</strong> </p>\\n', score=0, comment_count=0, created_at=datetime.datetime(2019, 1, 2, 10, 58, 13))]"
      ]
     },
     "execution_count": 6,
     "metadata": {},
     "output_type": "execute_result"
    }
   ],
   "source": [
    "answers.head(5)"
   ]
  },
  {
   "cell_type": "code",
   "execution_count": 7,
   "metadata": {},
   "outputs": [],
   "source": [
    "#Rename the answers column to another name\n",
    "answers = answers.withColumnRenamed('id', 'answer_id')\n",
    "users = users.withColumnRenamed('id', 'user_id')"
   ]
  },
  {
   "cell_type": "code",
   "execution_count": 8,
   "metadata": {},
   "outputs": [
    {
     "data": {
      "text/plain": [
       "['answer_id',\n",
       " 'user_id',\n",
       " 'question_id',\n",
       " 'body',\n",
       " 'score',\n",
       " 'comment_count',\n",
       " 'created_at']"
      ]
     },
     "execution_count": 8,
     "metadata": {},
     "output_type": "execute_result"
    }
   ],
   "source": [
    "answers.columns"
   ]
  },
  {
   "cell_type": "code",
   "execution_count": 9,
   "metadata": {},
   "outputs": [
    {
     "data": {
      "text/plain": [
       "['user_id',\n",
       " 'display_name',\n",
       " 'reputation',\n",
       " 'website_url',\n",
       " 'location',\n",
       " 'about_me',\n",
       " 'views',\n",
       " 'up_votes',\n",
       " 'down_votes',\n",
       " 'image_url',\n",
       " 'created_at',\n",
       " 'updated_at']"
      ]
     },
     "execution_count": 9,
     "metadata": {},
     "output_type": "execute_result"
    }
   ],
   "source": [
    "users.columns"
   ]
  },
  {
   "cell_type": "code",
   "execution_count": 10,
   "metadata": {},
   "outputs": [
    {
     "name": "stdout",
     "output_type": "stream",
     "text": [
      "+--------------------+\n",
      "|            location|\n",
      "+--------------------+\n",
      "|Bangalore, Karnat...|\n",
      "|      æ—¥æœ¬ TÅ�kyÅ�|\n",
      "|      Patras, Greece|\n",
      "|Jalandhar, Punjab...|\n",
      "|Makassar, Kota Ma...|\n",
      "|                null|\n",
      "|                null|\n",
      "|                null|\n",
      "|                null|\n",
      "|Indore, Madhya Pr...|\n",
      "|       Kyiv, Ukraine|\n",
      "|                null|\n",
      "|                null|\n",
      "|                null|\n",
      "|                null|\n",
      "|                null|\n",
      "|Bandung, Bandung ...|\n",
      "|                null|\n",
      "|West New York, NJ...|\n",
      "|                null|\n",
      "+--------------------+\n",
      "only showing top 20 rows\n",
      "\n"
     ]
    }
   ],
   "source": [
    "users.select('location').show(20)"
   ]
  },
  {
   "cell_type": "code",
   "execution_count": 11,
   "metadata": {},
   "outputs": [
    {
     "name": "stdout",
     "output_type": "stream",
     "text": [
      "+--------------------+-------------------+\n",
      "|        display_name|(location = Canada)|\n",
      "+--------------------+-------------------+\n",
      "|              suryan|              false|\n",
      "|  Hirotaka Nishimiya|              false|\n",
      "|Giorgos Paraskevo...|              false|\n",
      "|             Ali Mir|              false|\n",
      "|Adjie Satrio Prabowo|              false|\n",
      "|         Jordan Cyan|               null|\n",
      "|               Sjobi|               null|\n",
      "|         Varun gowda|               null|\n",
      "|          krown_loki|               null|\n",
      "|       shirsh shukla|              false|\n",
      "|               Pavel|              false|\n",
      "|           minjie li|               null|\n",
      "|              S. Das|               null|\n",
      "|Holland Property ...|               null|\n",
      "|                kelo|               null|\n",
      "|            Daniel N|               null|\n",
      "|          socionomad|              false|\n",
      "|               Nadia|               null|\n",
      "|           Bradley M|              false|\n",
      "|           Codezters|               null|\n",
      "+--------------------+-------------------+\n",
      "only showing top 20 rows\n",
      "\n"
     ]
    }
   ],
   "source": [
    "#Selecting users from only one country of your choice\n",
    "users.select('display_name', users[\"location\"] == \"Canada\").show(20)"
   ]
  },
  {
   "cell_type": "code",
   "execution_count": 13,
   "metadata": {},
   "outputs": [
    {
     "name": "stdout",
     "output_type": "stream",
     "text": [
      "+--------+--------------------+----------+--------------------+--------------------+--------------------+-----+--------+----------+--------------------+-------------------+-------------------+--------------------+\n",
      "| user_id|        display_name|reputation|         website_url|            location|            about_me|views|up_votes|down_votes|           image_url|         created_at|         updated_at|             Country|\n",
      "+--------+--------------------+----------+--------------------+--------------------+--------------------+-----+--------+----------+--------------------+-------------------+-------------------+--------------------+\n",
      "| 8357266|              suryan|         7|https://twitter.c...|Bangalore, Karnat...|                null|    8|       0|         0|https://www.grava...|2017-07-24 10:55:23|2019-06-19 05:00:16|Bangalore, Karnat...|\n",
      "| 2602456|                 Avi|         1|https://avtechtoo...|              Canada|                null|    0|       0|         0|                null|2013-07-20 15:10:25|2019-07-08 20:43:40|              Canada|\n",
      "| 8360277|                Matt|         1|                null|Pennsylvania, Uni...|                null|    0|       0|         0|https://www.grava...|2017-07-24 22:16:49|2019-04-28 22:17:15|Pennsylvania, Uni...|\n",
      "|10255746|            Wing Fan|         3|                null|                null|                null|   18|       0|         0|https://lh5.googl...|2018-08-21 16:05:03|2019-10-13 01:00:55|                null|\n",
      "| 6504306|               A.Raw|         4|                null|New Delhi, Delhi,...|                null|   10|       0|         0|https://i.stack.i...|2016-06-23 12:58:03|2019-10-12 06:59:32|New Delhi, Delhi,...|\n",
      "| 8370096|             Ringo64|         6|                null|                null|                null|    3|       0|         0|                null|2016-10-11 08:31:49|2019-10-11 11:18:07|                null|\n",
      "| 8370890|  Hirotaka Nishimiya|         6|                null|      æ—¥æœ¬ TÅ�kyÅ�|                null|    5|       0|         0|https://lh4.googl...|2017-07-26 14:56:55|2019-10-13 02:54:48|      æ—¥æœ¬ TÅ�kyÅ�|\n",
      "| 4695700|             Anuroop|         3|                null|                null|                null|    2|       0|         0|https://www.grava...|2015-03-20 21:03:13|2019-10-09 04:49:07|                null|\n",
      "|10260660|        Franco Buhay|         3|                null|                null|                null|    2|       0|         0|https://lh6.googl...|2018-08-22 15:52:55|2019-08-02 14:56:44|                null|\n",
      "|10260743|       Kartik Juneja|         3|                null|Gharaunda, Haryan...|<p>4th year Btech...|    2|       0|         0|https://lh5.googl...|2018-08-22 16:14:32|2019-01-27 13:05:45|Gharaunda, Haryan...|\n",
      "|10250681|                 Kay|         1|                null|                null|                null|    1|       0|         0|https://www.grava...|2018-08-20 15:11:00|2019-08-12 19:21:30|                null|\n",
      "|10251066|         Joao Tonial|         1|                null|Passo Fundo, RS, ...|                null|    1|       0|         0|https://lh5.googl...|2018-08-20 16:40:48|2019-09-02 20:02:25|Passo Fundo, RS, ...|\n",
      "| 6500355|ÐšÐ¸Ñ€Ð¸Ð»Ð» Ð¡Ð¾...|         1|                null|                null|                null|    0|       0|         0|https://graph.fac...|2016-06-22 16:43:44|2019-10-11 07:55:06|                null|\n",
      "| 4689205|              sd5869|         1|    http://sd5869.me|    New Delhi, India|                null|    5|       0|         0|                null|2015-03-19 10:20:21|2019-09-18 14:36:03|    New Delhi, India|\n",
      "|10254534|          SANKET_121|         4|                null|                null|                null|    7|       0|         0|https://lh6.googl...|2018-08-21 11:31:22|2019-09-27 12:17:16|                null|\n",
      "|10254610|Giorgos Paraskevo...|         6|                null|      Patras, Greece|                null|    3|       0|         0|https://lh5.googl...|2018-08-21 11:47:38|2019-10-10 10:22:24|      Patras, Greece|\n",
      "| 8368751|              alhn34|         7|                null|              Turkey|                null|   10|       0|         0|https://www.grava...|2017-07-26 08:56:37|2019-10-11 14:39:37|              Turkey|\n",
      "|10262756|             Ali Mir|         5|    http://nowebsite|Jalandhar, Punjab...|<p>I am a profess...|    9|       0|         0|https://lh4.googl...|2018-08-23 04:10:49|2019-10-12 06:38:20|Jalandhar, Punjab...|\n",
      "|10262983|       Nikunj Hapani|         1|                null|Surat, Gujarat, I...|<p>Hello, I am PH...|    7|       0|         0|https://www.grava...|2018-08-23 05:44:28|2019-03-28 12:34:16|Surat, Gujarat, I...|\n",
      "|10248962|Adjie Satrio Prabowo|         5|                null|Makassar, Kota Ma...|                null|   11|       0|         0|https://lh4.googl...|2018-08-20 08:54:34|2019-10-08 05:52:15|Makassar, Kota Ma...|\n",
      "+--------+--------------------+----------+--------------------+--------------------+--------------------+-----+--------+----------+--------------------+-------------------+-------------------+--------------------+\n",
      "only showing top 20 rows\n",
      "\n"
     ]
    }
   ],
   "source": [
    "users.withColumn(\"Country\", split(col(\"location\"), \"\\\\.\").getItem(0)).show(20)"
   ]
  },
  {
   "cell_type": "markdown",
   "metadata": {},
   "source": [
    "new_users.select(split(new_users.location, ' ')[-2].alias('Country')).distinct().show(30)"
   ]
  },
  {
   "cell_type": "code",
   "execution_count": 12,
   "metadata": {},
   "outputs": [
    {
     "name": "stdout",
     "output_type": "stream",
     "text": [
      "root\n",
      " |-- user_id: integer (nullable = true)\n",
      " |-- display_name: string (nullable = true)\n",
      " |-- reputation: integer (nullable = true)\n",
      " |-- website_url: string (nullable = true)\n",
      " |-- location: string (nullable = true)\n",
      " |-- about_me: string (nullable = true)\n",
      " |-- views: integer (nullable = true)\n",
      " |-- up_votes: integer (nullable = true)\n",
      " |-- down_votes: integer (nullable = true)\n",
      " |-- image_url: string (nullable = true)\n",
      " |-- created_at: timestamp (nullable = true)\n",
      " |-- updated_at: timestamp (nullable = true)\n",
      "\n"
     ]
    }
   ],
   "source": [
    "users.printSchema()"
   ]
  },
  {
   "cell_type": "code",
   "execution_count": 14,
   "metadata": {},
   "outputs": [
    {
     "name": "stdout",
     "output_type": "stream",
     "text": [
      "+-------+--------------------+\n",
      "|summary|            location|\n",
      "+-------+--------------------+\n",
      "|  count|               27008|\n",
      "|   mean|   6035.526315789473|\n",
      "| stddev|  22361.197593570734|\n",
      "|    min|           6.2)</li>|\n",
      "|    max|ëŒ€í•œë¯¼êµ­ ë¶€ì...|\n",
      "+-------+--------------------+\n",
      "\n"
     ]
    }
   ],
   "source": [
    "users.describe('location').show()"
   ]
  },
  {
   "cell_type": "code",
   "execution_count": 15,
   "metadata": {},
   "outputs": [
    {
     "data": {
      "text/plain": [
       "136"
      ]
     },
     "execution_count": 15,
     "metadata": {},
     "output_type": "execute_result"
    }
   ],
   "source": [
    "users.filter(users.location == 'Canada').count()"
   ]
  },
  {
   "cell_type": "code",
   "execution_count": 16,
   "metadata": {},
   "outputs": [
    {
     "data": {
      "text/plain": [
       "DataFrame[user_id: int, display_name: string, reputation: int, website_url: string, location: string, about_me: string, views: int, up_votes: int, down_votes: int, image_url: string, created_at: timestamp, updated_at: timestamp]"
      ]
     },
     "execution_count": 16,
     "metadata": {},
     "output_type": "execute_result"
    }
   ],
   "source": [
    "users.filter(users.location == 'Canada')"
   ]
  },
  {
   "cell_type": "code",
   "execution_count": 17,
   "metadata": {},
   "outputs": [],
   "source": [
    "from pyspark.sql import Row, SQLContext, SparkSession\n",
    "from pyspark.sql.functions import udf\n",
    "from pyspark.sql import functions as F"
   ]
  },
  {
   "cell_type": "code",
   "execution_count": 19,
   "metadata": {},
   "outputs": [
    {
     "name": "stdout",
     "output_type": "stream",
     "text": [
      "root\n",
      " |-- user_id: integer (nullable = true)\n",
      " |-- display_name: string (nullable = true)\n",
      " |-- reputation: integer (nullable = true)\n",
      " |-- website_url: string (nullable = true)\n",
      " |-- location: string (nullable = true)\n",
      " |-- about_me: string (nullable = true)\n",
      " |-- views: integer (nullable = true)\n",
      " |-- up_votes: integer (nullable = true)\n",
      " |-- down_votes: integer (nullable = true)\n",
      " |-- image_url: string (nullable = true)\n",
      " |-- created_at: timestamp (nullable = true)\n",
      " |-- updated_at: timestamp (nullable = true)\n",
      "\n"
     ]
    }
   ],
   "source": [
    "users.printSchema()"
   ]
  },
  {
   "cell_type": "code",
   "execution_count": 20,
   "metadata": {},
   "outputs": [
    {
     "name": "stdout",
     "output_type": "stream",
     "text": [
      "root\n",
      " |-- answer_id: integer (nullable = true)\n",
      " |-- user_id: integer (nullable = true)\n",
      " |-- question_id: integer (nullable = true)\n",
      " |-- body: string (nullable = true)\n",
      " |-- score: integer (nullable = true)\n",
      " |-- comment_count: integer (nullable = true)\n",
      " |-- created_at: timestamp (nullable = true)\n",
      "\n"
     ]
    }
   ],
   "source": [
    "answers.printSchema()"
   ]
  },
  {
   "cell_type": "code",
   "execution_count": 21,
   "metadata": {},
   "outputs": [],
   "source": [
    "users = users.withColumnRenamed('created_at', 'users_created_at')\n",
    "answers = answers.withColumnRenamed('created_at', 'answers_created_at')"
   ]
  },
  {
   "cell_type": "code",
   "execution_count": 22,
   "metadata": {},
   "outputs": [],
   "source": [
    "new_users =users.select('user_id', 'display_name', 'reputation', 'website_url',\n",
    "                                   'location', 'about_me', 'views', 'up_votes',\n",
    "                                   'down_votes', 'image_url', 'users_created_at',\n",
    "                                   'updated_at', F.split(users['location'], ',')[0].alias('city'),\n",
    "                                  F.split(users['location'], ',')[2].alias('country'))"
   ]
  },
  {
   "cell_type": "code",
   "execution_count": 23,
   "metadata": {},
   "outputs": [
    {
     "name": "stdout",
     "output_type": "stream",
     "text": [
      "+--------+------------------+----------+--------------------+--------------------+--------------------+-----+--------+----------+--------------------+-------------------+-------------------+--------------+-------+\n",
      "| user_id|      display_name|reputation|         website_url|            location|            about_me|views|up_votes|down_votes|           image_url|   users_created_at|         updated_at|          city|country|\n",
      "+--------+------------------+----------+--------------------+--------------------+--------------------+-----+--------+----------+--------------------+-------------------+-------------------+--------------+-------+\n",
      "| 8357266|            suryan|         7|https://twitter.c...|Bangalore, Karnat...|                null|    8|       0|         0|https://www.grava...|2017-07-24 10:55:23|2019-06-19 05:00:16|     Bangalore|  India|\n",
      "| 2602456|               Avi|         1|https://avtechtoo...|              Canada|                null|    0|       0|         0|                null|2013-07-20 15:10:25|2019-07-08 20:43:40|        Canada|   null|\n",
      "| 8360277|              Matt|         1|                null|Pennsylvania, Uni...|                null|    0|       0|         0|https://www.grava...|2017-07-24 22:16:49|2019-04-28 22:17:15|  Pennsylvania|   null|\n",
      "|10255746|          Wing Fan|         3|                null|                null|                null|   18|       0|         0|https://lh5.googl...|2018-08-21 16:05:03|2019-10-13 01:00:55|          null|   null|\n",
      "| 6504306|             A.Raw|         4|                null|New Delhi, Delhi,...|                null|   10|       0|         0|https://i.stack.i...|2016-06-23 12:58:03|2019-10-12 06:59:32|     New Delhi|  India|\n",
      "| 8370096|           Ringo64|         6|                null|                null|                null|    3|       0|         0|                null|2016-10-11 08:31:49|2019-10-11 11:18:07|          null|   null|\n",
      "| 8370890|Hirotaka Nishimiya|         6|                null|      æ—¥æœ¬ TÅ�kyÅ�|                null|    5|       0|         0|https://lh4.googl...|2017-07-26 14:56:55|2019-10-13 02:54:48|æ—¥æœ¬ TÅ�kyÅ�|   null|\n",
      "| 4695700|           Anuroop|         3|                null|                null|                null|    2|       0|         0|https://www.grava...|2015-03-20 21:03:13|2019-10-09 04:49:07|          null|   null|\n",
      "|10260660|      Franco Buhay|         3|                null|                null|                null|    2|       0|         0|https://lh6.googl...|2018-08-22 15:52:55|2019-08-02 14:56:44|          null|   null|\n",
      "|10260743|     Kartik Juneja|         3|                null|Gharaunda, Haryan...|<p>4th year Btech...|    2|       0|         0|https://lh5.googl...|2018-08-22 16:14:32|2019-01-27 13:05:45|     Gharaunda|  India|\n",
      "+--------+------------------+----------+--------------------+--------------------+--------------------+-----+--------+----------+--------------------+-------------------+-------------------+--------------+-------+\n",
      "only showing top 10 rows\n",
      "\n"
     ]
    }
   ],
   "source": [
    "new_users.show(10)"
   ]
  },
  {
   "cell_type": "code",
   "execution_count": 24,
   "metadata": {},
   "outputs": [
    {
     "name": "stdout",
     "output_type": "stream",
     "text": [
      "root\n",
      " |-- id: integer (nullable = true)\n",
      " |-- user_id: integer (nullable = true)\n",
      " |-- title: string (nullable = true)\n",
      " |-- body: string (nullable = true)\n",
      " |-- accepted_answer_id: integer (nullable = true)\n",
      " |-- score: integer (nullable = true)\n",
      " |-- view_count: integer (nullable = true)\n",
      " |-- comment_count: integer (nullable = true)\n",
      " |-- created_at: timestamp (nullable = true)\n",
      "\n"
     ]
    }
   ],
   "source": [
    "questions.printSchema()"
   ]
  },
  {
   "cell_type": "code",
   "execution_count": 25,
   "metadata": {},
   "outputs": [
    {
     "name": "stdout",
     "output_type": "stream",
     "text": [
      "root\n",
      " |-- user_id: integer (nullable = true)\n",
      " |-- display_name: string (nullable = true)\n",
      " |-- reputation: integer (nullable = true)\n",
      " |-- website_url: string (nullable = true)\n",
      " |-- location: string (nullable = true)\n",
      " |-- about_me: string (nullable = true)\n",
      " |-- views: integer (nullable = true)\n",
      " |-- up_votes: integer (nullable = true)\n",
      " |-- down_votes: integer (nullable = true)\n",
      " |-- image_url: string (nullable = true)\n",
      " |-- users_created_at: timestamp (nullable = true)\n",
      " |-- updated_at: timestamp (nullable = true)\n",
      " |-- city: string (nullable = true)\n",
      " |-- country: string (nullable = true)\n",
      "\n"
     ]
    }
   ],
   "source": [
    "new_users.printSchema()"
   ]
  },
  {
   "cell_type": "code",
   "execution_count": 26,
   "metadata": {},
   "outputs": [],
   "source": [
    "#Joining the Dataset for Questions and Users\n",
    "quest_user = new_users.join(questions.withColumnRenamed('id', 'question_id'), new_users['user_id'] == questions['user_id']).drop(questions.user_id)\n",
    "#result = df.join(other, cond, 'inner').drop(df.a)"
   ]
  },
  {
   "cell_type": "code",
   "execution_count": 27,
   "metadata": {},
   "outputs": [
    {
     "data": {
      "text/plain": [
       "['user_id',\n",
       " 'display_name',\n",
       " 'reputation',\n",
       " 'website_url',\n",
       " 'location',\n",
       " 'about_me',\n",
       " 'views',\n",
       " 'up_votes',\n",
       " 'down_votes',\n",
       " 'image_url',\n",
       " 'users_created_at',\n",
       " 'updated_at',\n",
       " 'city',\n",
       " 'country',\n",
       " 'question_id',\n",
       " 'title',\n",
       " 'body',\n",
       " 'accepted_answer_id',\n",
       " 'score',\n",
       " 'view_count',\n",
       " 'comment_count',\n",
       " 'created_at']"
      ]
     },
     "execution_count": 27,
     "metadata": {},
     "output_type": "execute_result"
    }
   ],
   "source": [
    "quest_user.columns"
   ]
  },
  {
   "cell_type": "code",
   "execution_count": null,
   "metadata": {},
   "outputs": [],
   "source": [
    "quest_user.printSchema()"
   ]
  },
  {
   "cell_type": "markdown",
   "metadata": {},
   "source": [
    "#Changing the columns view_count as integer\n",
    "from pyspark.sql.types import IntegerType\n",
    "quest_user = quest_user.withColumn(\"view_count\", quest_user[\"view_count\"].cast(IntegerType()))"
   ]
  },
  {
   "cell_type": "code",
   "execution_count": 28,
   "metadata": {},
   "outputs": [],
   "source": [
    "#Filtering out columns with views greater than 20 and replacing it with the joined data for questions and users\n",
    "quest_user = quest_user.filter(quest_user[\"view_count\"] >= 20)"
   ]
  },
  {
   "cell_type": "code",
   "execution_count": 29,
   "metadata": {
    "collapsed": true
   },
   "outputs": [
    {
     "name": "stdout",
     "output_type": "stream",
     "text": [
      "+-------+--------------+----------+--------------------+---------------+--------------------+-----+--------+----------+--------------------+-------------------+-------------------+---------+-------+-----------+--------------------+--------------------+------------------+-----+----------+-------------+-------------------+\n",
      "|user_id|  display_name|reputation|         website_url|       location|            about_me|views|up_votes|down_votes|           image_url|   users_created_at|         updated_at|     city|country|question_id|               title|                body|accepted_answer_id|score|view_count|comment_count|         created_at|\n",
      "+-------+--------------+----------+--------------------+---------------+--------------------+-----+--------+----------+--------------------+-------------------+-------------------+---------+-------+-----------+--------------------+--------------------+------------------+-----+----------+-------------+-------------------+\n",
      "|   2122| Rune Jacobsen|      5382|http://zoopsia.or...|Drammen, Norway|Evil hobby developer| 1548|      95|         0|                null|2008-08-20 13:13:16|2019-10-08 10:40:52|  Drammen|   null|   56102231|Binding redirect ...|<p>I have a legac...|          56217238|    2|       270|            0|2019-05-12 18:29:04|\n",
      "|  15619|      Riduidel|     18402|http://riduidel.w...|  Lille, France|<p>Big StackExcha...| 1498|    1773|        22|                null|2008-09-17 11:17:13|2019-10-08 08:45:07|    Lille|   null|   54260959|How can I connect...|<p>I'm trying to ...|          54271139|    1|       211|            0|2019-01-18 20:24:39|\n",
      "|  15619|      Riduidel|     18402|http://riduidel.w...|  Lille, France|<p>Big StackExcha...| 1498|    1773|        22|                null|2008-09-17 11:17:13|2019-10-08 08:45:07|    Lille|   null|   54921839|How to properly i...|<p><strong>Questi...|          54922522|    0|       200|            0|2019-02-28 09:02:28|\n",
      "|  15619|      Riduidel|     18402|http://riduidel.w...|  Lille, France|<p>Big StackExcha...| 1498|    1773|        22|                null|2008-09-17 11:17:13|2019-10-08 08:45:07|    Lille|   null|   55124900|How to create nat...|<p>I've created a...|          55131073|    0|       673|            0|2019-03-12 15:14:12|\n",
      "|  15619|      Riduidel|     18402|http://riduidel.w...|  Lille, France|<p>Big StackExcha...| 1498|    1773|        22|                null|2008-09-17 11:17:13|2019-10-08 08:45:07|    Lille|   null|   55955978|How to read data ...|<p>I have a proto...|          55971754|    1|        82|            2|2019-05-02 15:44:30|\n",
      "|  19530|         MaxVT|     10284|http://www.maxvt....|     Boston, MA|<p>Formerly a sof...|  623|     165|        69|https://www.grava...|2008-09-20 07:20:27|2019-06-10 19:58:17|   Boston|   null|   56138556|Does `define_meth...|<p>When my class ...|              null|    0|        52|            3|2019-05-14 21:02:02|\n",
      "|  64519|    joshcomley|     17991|                null|           null|                null| 1655|    1160|        58|                null|2009-02-10 11:46:13|2019-10-12 18:29:04|     null|   null|   56654315|AndroidX suddenly...|<p>All of a sudde...|          56656084|    4|       581|            0|2019-06-18 17:33:42|\n",
      "| 145504|          rgov|       832|https://ryan.govo...|           null|                null|  200|      98|        13|                null|2009-07-27 04:08:08|2019-10-12 20:58:25|     null|   null|   54770578|Printing an 8-bit...|<p>I have a <code...|          54770784|    0|        43|            0|2019-02-19 16:13:01|\n",
      "| 145504|          rgov|       832|https://ryan.govo...|           null|                null|  200|      98|        13|                null|2009-07-27 04:08:08|2019-10-12 20:58:25|     null|   null|   54525943|Skipping a CTest ...|<p>In CMake, one ...|              null|    0|       121|            0|2019-02-04 23:42:12|\n",
      "| 145504|          rgov|       832|https://ryan.govo...|           null|                null|  200|      98|        13|                null|2009-07-27 04:08:08|2019-10-12 20:58:25|     null|   null|   55998371|Get projected coo...|<p>I have a map f...|          56005574|    0|        90|            0|2019-05-06 03:12:40|\n",
      "| 145504|          rgov|       832|https://ryan.govo...|           null|                null|  200|      98|        13|                null|2009-07-27 04:08:08|2019-10-12 20:58:25|     null|   null|   56410114|Pushing a local D...|<p>I'm trying to ...|          56412353|    0|       137|            0|2019-06-01 20:14:00|\n",
      "| 168802|        Freddy|      1864|                null|  Rochester, NY|<p>CS Student @RI...|  132|     274|        18|                null|2009-09-04 21:52:00|2019-10-12 01:28:58|Rochester|   null|   56673375|Grails/Gorm - nam...|<p>I have the fol...|          56693984|    0|        24|            0|2019-06-19 17:53:40|\n",
      "| 175295|       Topdown|       323|                null|      Australia|                null|   32|      61|         0|                null|2009-09-18 01:23:51|2019-05-22 08:28:25|Australia|   null|   56233315|Formula for uniqu...|<p>I want to be a...|              null|    0|        38|            0|2019-05-21 07:32:09|\n",
      "| 188834|Python_Student|        67|                null|           null|                null|   32|       2|         0|                null|2009-10-13 04:23:47|2019-10-06 19:32:17|     null|   null|   56765467|Is there another ...|<p>I want to rota...|          56767614|    1|        91|            2|2019-06-26 04:59:28|\n",
      "| 205270|         demas|     24843|     http://demas.cc|           null|<p>I'm a programm...| 1880|     822|        46|https://i.stack.i...|2009-11-06 21:48:53|2019-10-13 06:17:10|     null|   null|   54170279|Tracing all metho...|<p>I am stydying ...|          54171188|    0|       141|            0|2019-01-13 15:21:41|\n",
      "| 205270|         demas|     24843|     http://demas.cc|           null|<p>I'm a programm...| 1880|     822|        46|https://i.stack.i...|2009-11-06 21:48:53|2019-10-13 06:17:10|     null|   null|   54400872|  Match by substring|<p>I need to get ...|          54401169|    0|        34|            2|2019-01-28 11:20:06|\n",
      "| 205270|         demas|     24843|     http://demas.cc|           null|<p>I'm a programm...| 1880|     822|        46|https://i.stack.i...|2009-11-06 21:48:53|2019-10-13 06:17:10|     null|   null|   55880066|last_value() and ...|<p>I have the rec...|          55880103|    0|        30|            0|2019-04-27 11:24:29|\n",
      "| 205270|         demas|     24843|     http://demas.cc|           null|<p>I'm a programm...| 1880|     822|        46|https://i.stack.i...|2009-11-06 21:48:53|2019-10-13 06:17:10|     null|   null|   56734550|Text color in the...|<p>Here is my cod...|          56734833|    1|        39|            1|2019-06-24 10:23:42|\n",
      "| 205270|         demas|     24843|     http://demas.cc|           null|<p>I'm a programm...| 1880|     822|        46|https://i.stack.i...|2009-11-06 21:48:53|2019-10-13 06:17:10|     null|   null|   56412085|Looping over dire...|<p>I need to loop...|          56412142|   -1|        24|            0|2019-06-02 03:56:21|\n",
      "| 214547|          Tool|      4962|                null|           null|                null|  537|     725|         6|https://i.stack.i...|2009-11-19 12:11:37|2019-10-13 01:43:31|     null|   null|   54292368|Is it possible to...|<p>Say I do the f...|          54292638|    1|        44|            0|2019-01-21 14:46:04|\n",
      "+-------+--------------+----------+--------------------+---------------+--------------------+-----+--------+----------+--------------------+-------------------+-------------------+---------+-------+-----------+--------------------+--------------------+------------------+-----+----------+-------------+-------------------+\n",
      "only showing top 20 rows\n",
      "\n"
     ]
    }
   ],
   "source": [
    "quest_user.show()"
   ]
  },
  {
   "cell_type": "code",
   "execution_count": 30,
   "metadata": {},
   "outputs": [],
   "source": [
    "answers = (answers.withColumnRenamed('score', 'answer_score')\n",
    "                    .withColumnRenamed('body', 'answer_body'))"
   ]
  },
  {
   "cell_type": "code",
   "execution_count": 31,
   "metadata": {},
   "outputs": [
    {
     "name": "stdout",
     "output_type": "stream",
     "text": [
      "root\n",
      " |-- answer_id: integer (nullable = true)\n",
      " |-- user_id: integer (nullable = true)\n",
      " |-- question_id: integer (nullable = true)\n",
      " |-- answer_body: string (nullable = true)\n",
      " |-- answer_score: integer (nullable = true)\n",
      " |-- comment_count: integer (nullable = true)\n",
      " |-- answers_created_at: timestamp (nullable = true)\n",
      "\n"
     ]
    }
   ],
   "source": [
    "answers.printSchema()"
   ]
  },
  {
   "cell_type": "markdown",
   "metadata": {},
   "source": [
    "#Dropping duplicated columns before joining the data\n",
    "answers = answers.drop('comment_count','user_id', 'question_id')"
   ]
  },
  {
   "cell_type": "code",
   "execution_count": 32,
   "metadata": {},
   "outputs": [],
   "source": [
    "answers = answers.withColumnRenamed('user_id', 'user_id_1')\n",
    "answers = answers.withColumnRenamed('comment_count', 'comment_count_1')"
   ]
  },
  {
   "cell_type": "code",
   "execution_count": 33,
   "metadata": {
    "scrolled": true
   },
   "outputs": [
    {
     "name": "stdout",
     "output_type": "stream",
     "text": [
      "root\n",
      " |-- answer_id: integer (nullable = true)\n",
      " |-- user_id_1: integer (nullable = true)\n",
      " |-- question_id: integer (nullable = true)\n",
      " |-- answer_body: string (nullable = true)\n",
      " |-- answer_score: integer (nullable = true)\n",
      " |-- comment_count_1: integer (nullable = true)\n",
      " |-- answers_created_at: timestamp (nullable = true)\n",
      "\n"
     ]
    }
   ],
   "source": [
    "answers.printSchema()"
   ]
  },
  {
   "cell_type": "code",
   "execution_count": 34,
   "metadata": {},
   "outputs": [
    {
     "name": "stdout",
     "output_type": "stream",
     "text": [
      "root\n",
      " |-- user_id: integer (nullable = true)\n",
      " |-- display_name: string (nullable = true)\n",
      " |-- reputation: integer (nullable = true)\n",
      " |-- website_url: string (nullable = true)\n",
      " |-- location: string (nullable = true)\n",
      " |-- about_me: string (nullable = true)\n",
      " |-- views: integer (nullable = true)\n",
      " |-- up_votes: integer (nullable = true)\n",
      " |-- down_votes: integer (nullable = true)\n",
      " |-- image_url: string (nullable = true)\n",
      " |-- users_created_at: timestamp (nullable = true)\n",
      " |-- updated_at: timestamp (nullable = true)\n",
      " |-- city: string (nullable = true)\n",
      " |-- country: string (nullable = true)\n",
      " |-- question_id: integer (nullable = true)\n",
      " |-- title: string (nullable = true)\n",
      " |-- body: string (nullable = true)\n",
      " |-- accepted_answer_id: integer (nullable = true)\n",
      " |-- score: integer (nullable = true)\n",
      " |-- view_count: integer (nullable = true)\n",
      " |-- comment_count: integer (nullable = true)\n",
      " |-- created_at: timestamp (nullable = true)\n",
      "\n"
     ]
    }
   ],
   "source": [
    "quest_user.printSchema()"
   ]
  },
  {
   "cell_type": "code",
   "execution_count": 35,
   "metadata": {},
   "outputs": [],
   "source": [
    "final_join = answers.join(quest_user.withColumnRenamed('comment_count', 'question_comment_count'), answers['user_id_1'] == quest_user['user_id'])"
   ]
  },
  {
   "cell_type": "code",
   "execution_count": 36,
   "metadata": {},
   "outputs": [
    {
     "name": "stdout",
     "output_type": "stream",
     "text": [
      "+---------+---------+-----------+--------------------+------------+---------------+-------------------+-------+-------------+----------+--------------------+---------------+--------------------+-----+--------+----------+---------+-------------------+-------------------+-------+-------+-----------+--------------------+--------------------+------------------+-----+----------+----------------------+-------------------+\n",
      "|answer_id|user_id_1|question_id|         answer_body|answer_score|comment_count_1| answers_created_at|user_id| display_name|reputation|         website_url|       location|            about_me|views|up_votes|down_votes|image_url|   users_created_at|         updated_at|   city|country|question_id|               title|                body|accepted_answer_id|score|view_count|question_comment_count|         created_at|\n",
      "+---------+---------+-----------+--------------------+------------+---------------+-------------------+-------+-------------+----------+--------------------+---------------+--------------------+-----+--------+----------+---------+-------------------+-------------------+-------+-------+-----------+--------------------+--------------------+------------------+-----+----------+----------------------+-------------------+\n",
      "| 56217238|     2122|   56102231|<p>This problem w...|           1|              1|2019-05-20 08:43:30|   2122|Rune Jacobsen|      5382|http://zoopsia.or...|Drammen, Norway|Evil hobby developer| 1548|      95|         0|     null|2008-08-20 13:13:16|2019-10-08 10:40:52|Drammen|   null|   56102231|Binding redirect ...|<p>I have a legac...|          56217238|    2|       270|                     0|2019-05-12 18:29:04|\n",
      "| 55971754|    15619|   55955978|<p>As it appear, ...|           1|              0|2019-05-03 14:21:27|  15619|     Riduidel|     18402|http://riduidel.w...|  Lille, France|<p>Big StackExcha...| 1498|    1773|        22|     null|2008-09-17 11:17:13|2019-10-08 08:45:07|  Lille|   null|   54260959|How can I connect...|<p>I'm trying to ...|          54271139|    1|       211|                     0|2019-01-18 20:24:39|\n",
      "| 55971754|    15619|   55955978|<p>As it appear, ...|           1|              0|2019-05-03 14:21:27|  15619|     Riduidel|     18402|http://riduidel.w...|  Lille, France|<p>Big StackExcha...| 1498|    1773|        22|     null|2008-09-17 11:17:13|2019-10-08 08:45:07|  Lille|   null|   54921839|How to properly i...|<p><strong>Questi...|          54922522|    0|       200|                     0|2019-02-28 09:02:28|\n",
      "| 55971754|    15619|   55955978|<p>As it appear, ...|           1|              0|2019-05-03 14:21:27|  15619|     Riduidel|     18402|http://riduidel.w...|  Lille, France|<p>Big StackExcha...| 1498|    1773|        22|     null|2008-09-17 11:17:13|2019-10-08 08:45:07|  Lille|   null|   55124900|How to create nat...|<p>I've created a...|          55131073|    0|       673|                     0|2019-03-12 15:14:12|\n",
      "| 55971754|    15619|   55955978|<p>As it appear, ...|           1|              0|2019-05-03 14:21:27|  15619|     Riduidel|     18402|http://riduidel.w...|  Lille, France|<p>Big StackExcha...| 1498|    1773|        22|     null|2008-09-17 11:17:13|2019-10-08 08:45:07|  Lille|   null|   55955978|How to read data ...|<p>I have a proto...|          55971754|    1|        82|                     2|2019-05-02 15:44:30|\n",
      "+---------+---------+-----------+--------------------+------------+---------------+-------------------+-------+-------------+----------+--------------------+---------------+--------------------+-----+--------+----------+---------+-------------------+-------------------+-------+-------+-----------+--------------------+--------------------+------------------+-----+----------+----------------------+-------------------+\n",
      "only showing top 5 rows\n",
      "\n"
     ]
    }
   ],
   "source": [
    "final_join.show(5)"
   ]
  },
  {
   "cell_type": "code",
   "execution_count": 37,
   "metadata": {},
   "outputs": [
    {
     "name": "stdout",
     "output_type": "stream",
     "text": [
      "root\n",
      " |-- answer_id: integer (nullable = true)\n",
      " |-- user_id_1: integer (nullable = true)\n",
      " |-- question_id: integer (nullable = true)\n",
      " |-- answer_body: string (nullable = true)\n",
      " |-- answer_score: integer (nullable = true)\n",
      " |-- comment_count_1: integer (nullable = true)\n",
      " |-- answers_created_at: timestamp (nullable = true)\n",
      " |-- user_id: integer (nullable = true)\n",
      " |-- display_name: string (nullable = true)\n",
      " |-- reputation: integer (nullable = true)\n",
      " |-- website_url: string (nullable = true)\n",
      " |-- location: string (nullable = true)\n",
      " |-- about_me: string (nullable = true)\n",
      " |-- views: integer (nullable = true)\n",
      " |-- up_votes: integer (nullable = true)\n",
      " |-- down_votes: integer (nullable = true)\n",
      " |-- image_url: string (nullable = true)\n",
      " |-- users_created_at: timestamp (nullable = true)\n",
      " |-- updated_at: timestamp (nullable = true)\n",
      " |-- city: string (nullable = true)\n",
      " |-- country: string (nullable = true)\n",
      " |-- question_id: integer (nullable = true)\n",
      " |-- title: string (nullable = true)\n",
      " |-- body: string (nullable = true)\n",
      " |-- accepted_answer_id: integer (nullable = true)\n",
      " |-- score: integer (nullable = true)\n",
      " |-- view_count: integer (nullable = true)\n",
      " |-- question_comment_count: integer (nullable = true)\n",
      " |-- created_at: timestamp (nullable = true)\n",
      "\n"
     ]
    }
   ],
   "source": [
    "final_join.printSchema()"
   ]
  },
  {
   "cell_type": "code",
   "execution_count": 38,
   "metadata": {},
   "outputs": [],
   "source": [
    "#Creating a temp table for SQL queries to generate python output\n",
    "final_join.registerTempTable(\"finaljoin_sql\")"
   ]
  },
  {
   "cell_type": "code",
   "execution_count": 39,
   "metadata": {},
   "outputs": [
    {
     "name": "stdout",
     "output_type": "stream",
     "text": [
      "+---------+---------+-----------+--------------------+------------+---------------+-------------------+-------+-------------+----------+--------------------+---------------+--------------------+-----+--------+----------+--------------------+-------------------+-------------------+---------+-------+-----------+--------------------+--------------------+------------------+-----+----------+----------------------+-------------------+\n",
      "|answer_id|user_id_1|question_id|         answer_body|answer_score|comment_count_1| answers_created_at|user_id| display_name|reputation|         website_url|       location|            about_me|views|up_votes|down_votes|           image_url|   users_created_at|         updated_at|     city|country|question_id|               title|                body|accepted_answer_id|score|view_count|question_comment_count|         created_at|\n",
      "+---------+---------+-----------+--------------------+------------+---------------+-------------------+-------+-------------+----------+--------------------+---------------+--------------------+-----+--------+----------+--------------------+-------------------+-------------------+---------+-------+-----------+--------------------+--------------------+------------------+-----+----------+----------------------+-------------------+\n",
      "| 56217238|     2122|   56102231|<p>This problem w...|           1|              1|2019-05-20 08:43:30|   2122|Rune Jacobsen|      5382|http://zoopsia.or...|Drammen, Norway|Evil hobby developer| 1548|      95|         0|                null|2008-08-20 13:13:16|2019-10-08 10:40:52|  Drammen|   null|   56102231|Binding redirect ...|<p>I have a legac...|          56217238|    2|       270|                     0|2019-05-12 18:29:04|\n",
      "| 55971754|    15619|   55955978|<p>As it appear, ...|           1|              0|2019-05-03 14:21:27|  15619|     Riduidel|     18402|http://riduidel.w...|  Lille, France|<p>Big StackExcha...| 1498|    1773|        22|                null|2008-09-17 11:17:13|2019-10-08 08:45:07|    Lille|   null|   54260959|How can I connect...|<p>I'm trying to ...|          54271139|    1|       211|                     0|2019-01-18 20:24:39|\n",
      "| 55971754|    15619|   55955978|<p>As it appear, ...|           1|              0|2019-05-03 14:21:27|  15619|     Riduidel|     18402|http://riduidel.w...|  Lille, France|<p>Big StackExcha...| 1498|    1773|        22|                null|2008-09-17 11:17:13|2019-10-08 08:45:07|    Lille|   null|   54921839|How to properly i...|<p><strong>Questi...|          54922522|    0|       200|                     0|2019-02-28 09:02:28|\n",
      "| 55971754|    15619|   55955978|<p>As it appear, ...|           1|              0|2019-05-03 14:21:27|  15619|     Riduidel|     18402|http://riduidel.w...|  Lille, France|<p>Big StackExcha...| 1498|    1773|        22|                null|2008-09-17 11:17:13|2019-10-08 08:45:07|    Lille|   null|   55124900|How to create nat...|<p>I've created a...|          55131073|    0|       673|                     0|2019-03-12 15:14:12|\n",
      "| 55971754|    15619|   55955978|<p>As it appear, ...|           1|              0|2019-05-03 14:21:27|  15619|     Riduidel|     18402|http://riduidel.w...|  Lille, France|<p>Big StackExcha...| 1498|    1773|        22|                null|2008-09-17 11:17:13|2019-10-08 08:45:07|    Lille|   null|   55955978|How to read data ...|<p>I have a proto...|          55971754|    1|        82|                     2|2019-05-02 15:44:30|\n",
      "| 56656084|    64519|   56654315|<p>So I fixed thi...|           5|              0|2019-06-18 19:48:39|  64519|   joshcomley|     17991|                null|           null|                null| 1655|    1160|        58|                null|2009-02-10 11:46:13|2019-10-12 18:29:04|     null|   null|   56654315|AndroidX suddenly...|<p>All of a sudde...|          56656084|    4|       581|                     0|2019-06-18 17:33:42|\n",
      "| 54770579|   145504|   54770578|<p>Actually, it p...|           2|              2|2019-02-19 16:13:01| 145504|         rgov|       832|https://ryan.govo...|           null|                null|  200|      98|        13|                null|2009-07-27 04:08:08|2019-10-12 20:58:25|     null|   null|   54770578|Printing an 8-bit...|<p>I have a <code...|          54770784|    0|        43|                     0|2019-02-19 16:13:01|\n",
      "| 54770579|   145504|   54770578|<p>Actually, it p...|           2|              2|2019-02-19 16:13:01| 145504|         rgov|       832|https://ryan.govo...|           null|                null|  200|      98|        13|                null|2009-07-27 04:08:08|2019-10-12 20:58:25|     null|   null|   54525943|Skipping a CTest ...|<p>In CMake, one ...|              null|    0|       121|                     0|2019-02-04 23:42:12|\n",
      "| 54770579|   145504|   54770578|<p>Actually, it p...|           2|              2|2019-02-19 16:13:01| 145504|         rgov|       832|https://ryan.govo...|           null|                null|  200|      98|        13|                null|2009-07-27 04:08:08|2019-10-12 20:58:25|     null|   null|   55998371|Get projected coo...|<p>I have a map f...|          56005574|    0|        90|                     0|2019-05-06 03:12:40|\n",
      "| 54770579|   145504|   54770578|<p>Actually, it p...|           2|              2|2019-02-19 16:13:01| 145504|         rgov|       832|https://ryan.govo...|           null|                null|  200|      98|        13|                null|2009-07-27 04:08:08|2019-10-12 20:58:25|     null|   null|   56410114|Pushing a local D...|<p>I'm trying to ...|          56412353|    0|       137|                     0|2019-06-01 20:14:00|\n",
      "| 56013137|   145504|   55998371|<p>In my sample c...|           0|              0|2019-05-06 22:25:00| 145504|         rgov|       832|https://ryan.govo...|           null|                null|  200|      98|        13|                null|2009-07-27 04:08:08|2019-10-12 20:58:25|     null|   null|   54770578|Printing an 8-bit...|<p>I have a <code...|          54770784|    0|        43|                     0|2019-02-19 16:13:01|\n",
      "| 56013137|   145504|   55998371|<p>In my sample c...|           0|              0|2019-05-06 22:25:00| 145504|         rgov|       832|https://ryan.govo...|           null|                null|  200|      98|        13|                null|2009-07-27 04:08:08|2019-10-12 20:58:25|     null|   null|   54525943|Skipping a CTest ...|<p>In CMake, one ...|              null|    0|       121|                     0|2019-02-04 23:42:12|\n",
      "| 56013137|   145504|   55998371|<p>In my sample c...|           0|              0|2019-05-06 22:25:00| 145504|         rgov|       832|https://ryan.govo...|           null|                null|  200|      98|        13|                null|2009-07-27 04:08:08|2019-10-12 20:58:25|     null|   null|   55998371|Get projected coo...|<p>I have a map f...|          56005574|    0|        90|                     0|2019-05-06 03:12:40|\n",
      "| 56013137|   145504|   55998371|<p>In my sample c...|           0|              0|2019-05-06 22:25:00| 145504|         rgov|       832|https://ryan.govo...|           null|                null|  200|      98|        13|                null|2009-07-27 04:08:08|2019-10-12 20:58:25|     null|   null|   56410114|Pushing a local D...|<p>I'm trying to ...|          56412353|    0|       137|                     0|2019-06-01 20:14:00|\n",
      "| 56412353|   145504|   56410114|<p>The Docker cli...|           0|              0|2019-06-02 05:09:09| 145504|         rgov|       832|https://ryan.govo...|           null|                null|  200|      98|        13|                null|2009-07-27 04:08:08|2019-10-12 20:58:25|     null|   null|   54770578|Printing an 8-bit...|<p>I have a <code...|          54770784|    0|        43|                     0|2019-02-19 16:13:01|\n",
      "| 56412353|   145504|   56410114|<p>The Docker cli...|           0|              0|2019-06-02 05:09:09| 145504|         rgov|       832|https://ryan.govo...|           null|                null|  200|      98|        13|                null|2009-07-27 04:08:08|2019-10-12 20:58:25|     null|   null|   54525943|Skipping a CTest ...|<p>In CMake, one ...|              null|    0|       121|                     0|2019-02-04 23:42:12|\n",
      "| 56412353|   145504|   56410114|<p>The Docker cli...|           0|              0|2019-06-02 05:09:09| 145504|         rgov|       832|https://ryan.govo...|           null|                null|  200|      98|        13|                null|2009-07-27 04:08:08|2019-10-12 20:58:25|     null|   null|   55998371|Get projected coo...|<p>I have a map f...|          56005574|    0|        90|                     0|2019-05-06 03:12:40|\n",
      "| 56412353|   145504|   56410114|<p>The Docker cli...|           0|              0|2019-06-02 05:09:09| 145504|         rgov|       832|https://ryan.govo...|           null|                null|  200|      98|        13|                null|2009-07-27 04:08:08|2019-10-12 20:58:25|     null|   null|   56410114|Pushing a local D...|<p>I'm trying to ...|          56412353|    0|       137|                     0|2019-06-01 20:14:00|\n",
      "| 56693984|   168802|   56673375|<p>This actually ...|           0|              0|2019-06-20 21:17:32| 168802|       Freddy|      1864|                null|  Rochester, NY|<p>CS Student @RI...|  132|     274|        18|                null|2009-09-04 21:52:00|2019-10-12 01:28:58|Rochester|   null|   56673375|Grails/Gorm - nam...|<p>I have the fol...|          56693984|    0|        24|                     0|2019-06-19 17:53:40|\n",
      "| 54055476|   205270|   54055088|<p>It is fine tha...|           0|              0|2019-01-05 19:28:15| 205270|        demas|     24843|     http://demas.cc|           null|<p>I'm a programm...| 1880|     822|        46|https://i.stack.i...|2009-11-06 21:48:53|2019-10-13 06:17:10|     null|   null|   54170279|Tracing all metho...|<p>I am stydying ...|          54171188|    0|       141|                     0|2019-01-13 15:21:41|\n",
      "+---------+---------+-----------+--------------------+------------+---------------+-------------------+-------+-------------+----------+--------------------+---------------+--------------------+-----+--------+----------+--------------------+-------------------+-------------------+---------+-------+-----------+--------------------+--------------------+------------------+-----+----------+----------------------+-------------------+\n",
      "only showing top 20 rows\n",
      "\n"
     ]
    }
   ],
   "source": [
    "spark.sql(\"select * from finaljoin_sql\").show()"
   ]
  },
  {
   "cell_type": "code",
   "execution_count": 40,
   "metadata": {},
   "outputs": [
    {
     "name": "stdout",
     "output_type": "stream",
     "text": [
      "+-------------------+\n",
      "|    min(created_at)|\n",
      "+-------------------+\n",
      "|2019-01-01 00:15:23|\n",
      "+-------------------+\n",
      "\n"
     ]
    }
   ],
   "source": [
    "#SQL funtion to print out the minimum value in the column updated_at\n",
    "spark.sql(\"select MIN(created_at) from finaljoin_sql\").show()"
   ]
  },
  {
   "cell_type": "code",
   "execution_count": 42,
   "metadata": {
    "scrolled": true
   },
   "outputs": [
    {
     "ename": "Py4JJavaError",
     "evalue": "An error occurred while calling o227.save.\n: java.lang.ClassNotFoundException: org.postgresql.driver\r\n\tat java.net.URLClassLoader$1.run(Unknown Source)\r\n\tat java.net.URLClassLoader$1.run(Unknown Source)\r\n\tat java.security.AccessController.doPrivileged(Native Method)\r\n\tat java.net.URLClassLoader.findClass(Unknown Source)\r\n\tat java.lang.ClassLoader.loadClass(Unknown Source)\r\n\tat java.lang.ClassLoader.loadClass(Unknown Source)\r\n\tat org.apache.spark.sql.execution.datasources.jdbc.DriverRegistry$.register(DriverRegistry.scala:45)\r\n\tat org.apache.spark.sql.execution.datasources.jdbc.JDBCOptions$$anonfun$5.apply(JDBCOptions.scala:99)\r\n\tat org.apache.spark.sql.execution.datasources.jdbc.JDBCOptions$$anonfun$5.apply(JDBCOptions.scala:99)\r\n\tat scala.Option.foreach(Option.scala:257)\r\n\tat org.apache.spark.sql.execution.datasources.jdbc.JDBCOptions.<init>(JDBCOptions.scala:99)\r\n\tat org.apache.spark.sql.execution.datasources.jdbc.JdbcOptionsInWrite.<init>(JDBCOptions.scala:197)\r\n\tat org.apache.spark.sql.execution.datasources.jdbc.JdbcOptionsInWrite.<init>(JDBCOptions.scala:201)\r\n\tat org.apache.spark.sql.execution.datasources.jdbc.JdbcRelationProvider.createRelation(JdbcRelationProvider.scala:45)\r\n\tat org.apache.spark.sql.execution.datasources.SaveIntoDataSourceCommand.run(SaveIntoDataSourceCommand.scala:45)\r\n\tat org.apache.spark.sql.execution.command.ExecutedCommandExec.sideEffectResult$lzycompute(commands.scala:70)\r\n\tat org.apache.spark.sql.execution.command.ExecutedCommandExec.sideEffectResult(commands.scala:68)\r\n\tat org.apache.spark.sql.execution.command.ExecutedCommandExec.doExecute(commands.scala:86)\r\n\tat org.apache.spark.sql.execution.SparkPlan$$anonfun$execute$1.apply(SparkPlan.scala:131)\r\n\tat org.apache.spark.sql.execution.SparkPlan$$anonfun$execute$1.apply(SparkPlan.scala:127)\r\n\tat org.apache.spark.sql.execution.SparkPlan$$anonfun$executeQuery$1.apply(SparkPlan.scala:155)\r\n\tat org.apache.spark.rdd.RDDOperationScope$.withScope(RDDOperationScope.scala:151)\r\n\tat org.apache.spark.sql.execution.SparkPlan.executeQuery(SparkPlan.scala:152)\r\n\tat org.apache.spark.sql.execution.SparkPlan.execute(SparkPlan.scala:127)\r\n\tat org.apache.spark.sql.execution.QueryExecution.toRdd$lzycompute(QueryExecution.scala:80)\r\n\tat org.apache.spark.sql.execution.QueryExecution.toRdd(QueryExecution.scala:80)\r\n\tat org.apache.spark.sql.DataFrameWriter$$anonfun$runCommand$1.apply(DataFrameWriter.scala:676)\r\n\tat org.apache.spark.sql.DataFrameWriter$$anonfun$runCommand$1.apply(DataFrameWriter.scala:676)\r\n\tat org.apache.spark.sql.execution.SQLExecution$$anonfun$withNewExecutionId$1.apply(SQLExecution.scala:78)\r\n\tat org.apache.spark.sql.execution.SQLExecution$.withSQLConfPropagated(SQLExecution.scala:125)\r\n\tat org.apache.spark.sql.execution.SQLExecution$.withNewExecutionId(SQLExecution.scala:73)\r\n\tat org.apache.spark.sql.DataFrameWriter.runCommand(DataFrameWriter.scala:676)\r\n\tat org.apache.spark.sql.DataFrameWriter.saveToV1Source(DataFrameWriter.scala:285)\r\n\tat org.apache.spark.sql.DataFrameWriter.save(DataFrameWriter.scala:271)\r\n\tat sun.reflect.NativeMethodAccessorImpl.invoke0(Native Method)\r\n\tat sun.reflect.NativeMethodAccessorImpl.invoke(Unknown Source)\r\n\tat sun.reflect.DelegatingMethodAccessorImpl.invoke(Unknown Source)\r\n\tat java.lang.reflect.Method.invoke(Unknown Source)\r\n\tat py4j.reflection.MethodInvoker.invoke(MethodInvoker.java:244)\r\n\tat py4j.reflection.ReflectionEngine.invoke(ReflectionEngine.java:357)\r\n\tat py4j.Gateway.invoke(Gateway.java:282)\r\n\tat py4j.commands.AbstractCommand.invokeMethod(AbstractCommand.java:132)\r\n\tat py4j.commands.CallCommand.execute(CallCommand.java:79)\r\n\tat py4j.GatewayConnection.run(GatewayConnection.java:238)\r\n\tat java.lang.Thread.run(Unknown Source)\r\n",
     "output_type": "error",
     "traceback": [
      "\u001b[1;31m---------------------------------------------------------------------------\u001b[0m",
      "\u001b[1;31mPy4JJavaError\u001b[0m                             Traceback (most recent call last)",
      "\u001b[1;32m<ipython-input-42-932dc48fb7e3>\u001b[0m in \u001b[0;36m<module>\u001b[1;34m\u001b[0m\n\u001b[0;32m      5\u001b[0m     \u001b[0mpassword\u001b[0m\u001b[1;33m=\u001b[0m\u001b[1;34m'Mickey@374'\u001b[0m\u001b[1;33m,\u001b[0m\u001b[1;33m\u001b[0m\u001b[1;33m\u001b[0m\u001b[0m\n\u001b[0;32m      6\u001b[0m     \u001b[0mdbtable\u001b[0m\u001b[1;33m=\u001b[0m\u001b[1;34m'stackoverflow_filtered.results'\u001b[0m\u001b[1;33m\u001b[0m\u001b[1;33m\u001b[0m\u001b[0m\n\u001b[1;32m----> 7\u001b[1;33m ).save(mode='append')\n\u001b[0m",
      "\u001b[1;32m~\\Anaconda3\\lib\\site-packages\\pyspark\\sql\\readwriter.py\u001b[0m in \u001b[0;36msave\u001b[1;34m(self, path, format, mode, partitionBy, **options)\u001b[0m\n\u001b[0;32m    734\u001b[0m             \u001b[0mself\u001b[0m\u001b[1;33m.\u001b[0m\u001b[0mformat\u001b[0m\u001b[1;33m(\u001b[0m\u001b[0mformat\u001b[0m\u001b[1;33m)\u001b[0m\u001b[1;33m\u001b[0m\u001b[1;33m\u001b[0m\u001b[0m\n\u001b[0;32m    735\u001b[0m         \u001b[1;32mif\u001b[0m \u001b[0mpath\u001b[0m \u001b[1;32mis\u001b[0m \u001b[1;32mNone\u001b[0m\u001b[1;33m:\u001b[0m\u001b[1;33m\u001b[0m\u001b[1;33m\u001b[0m\u001b[0m\n\u001b[1;32m--> 736\u001b[1;33m             \u001b[0mself\u001b[0m\u001b[1;33m.\u001b[0m\u001b[0m_jwrite\u001b[0m\u001b[1;33m.\u001b[0m\u001b[0msave\u001b[0m\u001b[1;33m(\u001b[0m\u001b[1;33m)\u001b[0m\u001b[1;33m\u001b[0m\u001b[1;33m\u001b[0m\u001b[0m\n\u001b[0m\u001b[0;32m    737\u001b[0m         \u001b[1;32melse\u001b[0m\u001b[1;33m:\u001b[0m\u001b[1;33m\u001b[0m\u001b[1;33m\u001b[0m\u001b[0m\n\u001b[0;32m    738\u001b[0m             \u001b[0mself\u001b[0m\u001b[1;33m.\u001b[0m\u001b[0m_jwrite\u001b[0m\u001b[1;33m.\u001b[0m\u001b[0msave\u001b[0m\u001b[1;33m(\u001b[0m\u001b[0mpath\u001b[0m\u001b[1;33m)\u001b[0m\u001b[1;33m\u001b[0m\u001b[1;33m\u001b[0m\u001b[0m\n",
      "\u001b[1;32m~\\Anaconda3\\lib\\site-packages\\py4j\\java_gateway.py\u001b[0m in \u001b[0;36m__call__\u001b[1;34m(self, *args)\u001b[0m\n\u001b[0;32m   1255\u001b[0m         \u001b[0manswer\u001b[0m \u001b[1;33m=\u001b[0m \u001b[0mself\u001b[0m\u001b[1;33m.\u001b[0m\u001b[0mgateway_client\u001b[0m\u001b[1;33m.\u001b[0m\u001b[0msend_command\u001b[0m\u001b[1;33m(\u001b[0m\u001b[0mcommand\u001b[0m\u001b[1;33m)\u001b[0m\u001b[1;33m\u001b[0m\u001b[1;33m\u001b[0m\u001b[0m\n\u001b[0;32m   1256\u001b[0m         return_value = get_return_value(\n\u001b[1;32m-> 1257\u001b[1;33m             answer, self.gateway_client, self.target_id, self.name)\n\u001b[0m\u001b[0;32m   1258\u001b[0m \u001b[1;33m\u001b[0m\u001b[0m\n\u001b[0;32m   1259\u001b[0m         \u001b[1;32mfor\u001b[0m \u001b[0mtemp_arg\u001b[0m \u001b[1;32min\u001b[0m \u001b[0mtemp_args\u001b[0m\u001b[1;33m:\u001b[0m\u001b[1;33m\u001b[0m\u001b[1;33m\u001b[0m\u001b[0m\n",
      "\u001b[1;32m~\\Anaconda3\\lib\\site-packages\\pyspark\\sql\\utils.py\u001b[0m in \u001b[0;36mdeco\u001b[1;34m(*a, **kw)\u001b[0m\n\u001b[0;32m     61\u001b[0m     \u001b[1;32mdef\u001b[0m \u001b[0mdeco\u001b[0m\u001b[1;33m(\u001b[0m\u001b[1;33m*\u001b[0m\u001b[0ma\u001b[0m\u001b[1;33m,\u001b[0m \u001b[1;33m**\u001b[0m\u001b[0mkw\u001b[0m\u001b[1;33m)\u001b[0m\u001b[1;33m:\u001b[0m\u001b[1;33m\u001b[0m\u001b[1;33m\u001b[0m\u001b[0m\n\u001b[0;32m     62\u001b[0m         \u001b[1;32mtry\u001b[0m\u001b[1;33m:\u001b[0m\u001b[1;33m\u001b[0m\u001b[1;33m\u001b[0m\u001b[0m\n\u001b[1;32m---> 63\u001b[1;33m             \u001b[1;32mreturn\u001b[0m \u001b[0mf\u001b[0m\u001b[1;33m(\u001b[0m\u001b[1;33m*\u001b[0m\u001b[0ma\u001b[0m\u001b[1;33m,\u001b[0m \u001b[1;33m**\u001b[0m\u001b[0mkw\u001b[0m\u001b[1;33m)\u001b[0m\u001b[1;33m\u001b[0m\u001b[1;33m\u001b[0m\u001b[0m\n\u001b[0m\u001b[0;32m     64\u001b[0m         \u001b[1;32mexcept\u001b[0m \u001b[0mpy4j\u001b[0m\u001b[1;33m.\u001b[0m\u001b[0mprotocol\u001b[0m\u001b[1;33m.\u001b[0m\u001b[0mPy4JJavaError\u001b[0m \u001b[1;32mas\u001b[0m \u001b[0me\u001b[0m\u001b[1;33m:\u001b[0m\u001b[1;33m\u001b[0m\u001b[1;33m\u001b[0m\u001b[0m\n\u001b[0;32m     65\u001b[0m             \u001b[0ms\u001b[0m \u001b[1;33m=\u001b[0m \u001b[0me\u001b[0m\u001b[1;33m.\u001b[0m\u001b[0mjava_exception\u001b[0m\u001b[1;33m.\u001b[0m\u001b[0mtoString\u001b[0m\u001b[1;33m(\u001b[0m\u001b[1;33m)\u001b[0m\u001b[1;33m\u001b[0m\u001b[1;33m\u001b[0m\u001b[0m\n",
      "\u001b[1;32m~\\Anaconda3\\lib\\site-packages\\py4j\\protocol.py\u001b[0m in \u001b[0;36mget_return_value\u001b[1;34m(answer, gateway_client, target_id, name)\u001b[0m\n\u001b[0;32m    326\u001b[0m                 raise Py4JJavaError(\n\u001b[0;32m    327\u001b[0m                     \u001b[1;34m\"An error occurred while calling {0}{1}{2}.\\n\"\u001b[0m\u001b[1;33m.\u001b[0m\u001b[1;33m\u001b[0m\u001b[1;33m\u001b[0m\u001b[0m\n\u001b[1;32m--> 328\u001b[1;33m                     format(target_id, \".\", name), value)\n\u001b[0m\u001b[0;32m    329\u001b[0m             \u001b[1;32melse\u001b[0m\u001b[1;33m:\u001b[0m\u001b[1;33m\u001b[0m\u001b[1;33m\u001b[0m\u001b[0m\n\u001b[0;32m    330\u001b[0m                 raise Py4JError(\n",
      "\u001b[1;31mPy4JJavaError\u001b[0m: An error occurred while calling o227.save.\n: java.lang.ClassNotFoundException: org.postgresql.driver\r\n\tat java.net.URLClassLoader$1.run(Unknown Source)\r\n\tat java.net.URLClassLoader$1.run(Unknown Source)\r\n\tat java.security.AccessController.doPrivileged(Native Method)\r\n\tat java.net.URLClassLoader.findClass(Unknown Source)\r\n\tat java.lang.ClassLoader.loadClass(Unknown Source)\r\n\tat java.lang.ClassLoader.loadClass(Unknown Source)\r\n\tat org.apache.spark.sql.execution.datasources.jdbc.DriverRegistry$.register(DriverRegistry.scala:45)\r\n\tat org.apache.spark.sql.execution.datasources.jdbc.JDBCOptions$$anonfun$5.apply(JDBCOptions.scala:99)\r\n\tat org.apache.spark.sql.execution.datasources.jdbc.JDBCOptions$$anonfun$5.apply(JDBCOptions.scala:99)\r\n\tat scala.Option.foreach(Option.scala:257)\r\n\tat org.apache.spark.sql.execution.datasources.jdbc.JDBCOptions.<init>(JDBCOptions.scala:99)\r\n\tat org.apache.spark.sql.execution.datasources.jdbc.JdbcOptionsInWrite.<init>(JDBCOptions.scala:197)\r\n\tat org.apache.spark.sql.execution.datasources.jdbc.JdbcOptionsInWrite.<init>(JDBCOptions.scala:201)\r\n\tat org.apache.spark.sql.execution.datasources.jdbc.JdbcRelationProvider.createRelation(JdbcRelationProvider.scala:45)\r\n\tat org.apache.spark.sql.execution.datasources.SaveIntoDataSourceCommand.run(SaveIntoDataSourceCommand.scala:45)\r\n\tat org.apache.spark.sql.execution.command.ExecutedCommandExec.sideEffectResult$lzycompute(commands.scala:70)\r\n\tat org.apache.spark.sql.execution.command.ExecutedCommandExec.sideEffectResult(commands.scala:68)\r\n\tat org.apache.spark.sql.execution.command.ExecutedCommandExec.doExecute(commands.scala:86)\r\n\tat org.apache.spark.sql.execution.SparkPlan$$anonfun$execute$1.apply(SparkPlan.scala:131)\r\n\tat org.apache.spark.sql.execution.SparkPlan$$anonfun$execute$1.apply(SparkPlan.scala:127)\r\n\tat org.apache.spark.sql.execution.SparkPlan$$anonfun$executeQuery$1.apply(SparkPlan.scala:155)\r\n\tat org.apache.spark.rdd.RDDOperationScope$.withScope(RDDOperationScope.scala:151)\r\n\tat org.apache.spark.sql.execution.SparkPlan.executeQuery(SparkPlan.scala:152)\r\n\tat org.apache.spark.sql.execution.SparkPlan.execute(SparkPlan.scala:127)\r\n\tat org.apache.spark.sql.execution.QueryExecution.toRdd$lzycompute(QueryExecution.scala:80)\r\n\tat org.apache.spark.sql.execution.QueryExecution.toRdd(QueryExecution.scala:80)\r\n\tat org.apache.spark.sql.DataFrameWriter$$anonfun$runCommand$1.apply(DataFrameWriter.scala:676)\r\n\tat org.apache.spark.sql.DataFrameWriter$$anonfun$runCommand$1.apply(DataFrameWriter.scala:676)\r\n\tat org.apache.spark.sql.execution.SQLExecution$$anonfun$withNewExecutionId$1.apply(SQLExecution.scala:78)\r\n\tat org.apache.spark.sql.execution.SQLExecution$.withSQLConfPropagated(SQLExecution.scala:125)\r\n\tat org.apache.spark.sql.execution.SQLExecution$.withNewExecutionId(SQLExecution.scala:73)\r\n\tat org.apache.spark.sql.DataFrameWriter.runCommand(DataFrameWriter.scala:676)\r\n\tat org.apache.spark.sql.DataFrameWriter.saveToV1Source(DataFrameWriter.scala:285)\r\n\tat org.apache.spark.sql.DataFrameWriter.save(DataFrameWriter.scala:271)\r\n\tat sun.reflect.NativeMethodAccessorImpl.invoke0(Native Method)\r\n\tat sun.reflect.NativeMethodAccessorImpl.invoke(Unknown Source)\r\n\tat sun.reflect.DelegatingMethodAccessorImpl.invoke(Unknown Source)\r\n\tat java.lang.reflect.Method.invoke(Unknown Source)\r\n\tat py4j.reflection.MethodInvoker.invoke(MethodInvoker.java:244)\r\n\tat py4j.reflection.ReflectionEngine.invoke(ReflectionEngine.java:357)\r\n\tat py4j.Gateway.invoke(Gateway.java:282)\r\n\tat py4j.commands.AbstractCommand.invokeMethod(AbstractCommand.java:132)\r\n\tat py4j.commands.CallCommand.execute(CallCommand.java:79)\r\n\tat py4j.GatewayConnection.run(GatewayConnection.java:238)\r\n\tat java.lang.Thread.run(Unknown Source)\r\n"
     ]
    }
   ],
   "source": [
    "final_join.write.format(\"jdbc\").options(\n",
    "    url='jdbc:postgresql://localhost/postgres',\n",
    "    driver='org.postgresql.driver',\n",
    "    user='postgres',\n",
    "    password='Mickey@374',\n",
    "    dbtable='stackoverflow_filtered.results'\n",
    ").save(mode='append')"
   ]
  },
  {
   "cell_type": "code",
   "execution_count": null,
   "metadata": {},
   "outputs": [],
   "source": [
    "a.write.format(\"jdbc\").options(\n",
    "    url='jdbc:postgresql://localhost/postgres',\n",
    "    driver='org.postgresql.Driver',\n",
    "    user='postgres',\n",
    "    password='postgres',\n",
    "    dbtable='stackoverflow_filtered.results'\n",
    ").save(mode='append')"
   ]
  }
 ],
 "metadata": {
  "kernelspec": {
   "display_name": "Python 3",
   "language": "python",
   "name": "python3"
  },
  "language_info": {
   "codemirror_mode": {
    "name": "ipython",
    "version": 3
   },
   "file_extension": ".py",
   "mimetype": "text/x-python",
   "name": "python",
   "nbconvert_exporter": "python",
   "pygments_lexer": "ipython3",
   "version": "3.7.3"
  }
 },
 "nbformat": 4,
 "nbformat_minor": 2
}
