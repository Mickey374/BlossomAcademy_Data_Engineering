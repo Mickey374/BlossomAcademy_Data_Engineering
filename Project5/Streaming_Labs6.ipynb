{
 "cells": [
  {
   "cell_type": "code",
   "execution_count": 26,
   "metadata": {},
   "outputs": [],
   "source": [
    "#Importing Libraries\n",
    "import boto3\n",
    "import csv\n",
    "import json\n",
    "import time"
   ]
  },
  {
   "cell_type": "code",
   "execution_count": 27,
   "metadata": {},
   "outputs": [],
   "source": [
    "region = 'us-east-2'\n",
    "\n",
    "#replace username with your name\n",
    "streamName = 'blossom-data-eng-michaelasante'"
   ]
  },
  {
   "cell_type": "code",
   "execution_count": 28,
   "metadata": {},
   "outputs": [],
   "source": [
    "# initialized kinesis client\n",
    "kinesis = boto3.client('kinesis', region_name=region)"
   ]
  },
  {
   "cell_type": "code",
   "execution_count": 29,
   "metadata": {},
   "outputs": [
    {
     "data": {
      "text/plain": [
       "{'StreamNames': ['blossom-data-eng-Priscilla',\n",
       "  'blossom-data-eng-dennis',\n",
       "  'blossom-data-eng-emily',\n",
       "  'blossom-data-eng-giftydovie',\n",
       "  'blossom-data-eng-giftysdovie',\n",
       "  'blossom-data-eng-michael_asante',\n",
       "  'blossom-data-eng-richmond',\n",
       "  'blossom-eng-Priscilla',\n",
       "  'blossom-eng-juliuslotsu',\n",
       "  'blossom-eng-michaelasante',\n",
       "  'blossom-eng-omaj',\n",
       "  'kojo-kinesis-test',\n",
       "  'real_estate'],\n",
       " 'HasMoreStreams': False,\n",
       " 'ResponseMetadata': {'RequestId': 'e08f56a7-7947-02ec-b6dc-69544e38030f',\n",
       "  'HTTPStatusCode': 200,\n",
       "  'HTTPHeaders': {'x-amzn-requestid': 'e08f56a7-7947-02ec-b6dc-69544e38030f',\n",
       "   'x-amz-id-2': 'adUC3w3knAHjFvVdeamxq06HR1TRUkFkLN+TsaEvdOT93LNCdbybnmeWEKmFwhREzmPe+LQVuCVy8eielWOf1KNX66japRHK',\n",
       "   'date': 'Sat, 23 Nov 2019 14:09:55 GMT',\n",
       "   'content-type': 'application/x-amz-json-1.1',\n",
       "   'content-length': '374'},\n",
       "  'RetryAttempts': 0}}"
      ]
     },
     "execution_count": 29,
     "metadata": {},
     "output_type": "execute_result"
    }
   ],
   "source": [
    "# List all active streams\n",
    "kinesis.list_streams()"
   ]
  },
  {
   "cell_type": "code",
   "execution_count": 30,
   "metadata": {},
   "outputs": [],
   "source": [
    "from datetime import datetime\n",
    "import time\n",
    "import boto3\n",
    "from meq_scraper import scrape_meqasa"
   ]
  },
  {
   "cell_type": "code",
   "execution_count": 32,
   "metadata": {},
   "outputs": [],
   "source": [
    "kinesis = boto3.client('kinesis', region_name='us-east-2')"
   ]
  },
  {
   "cell_type": "code",
   "execution_count": 33,
   "metadata": {},
   "outputs": [],
   "source": [
    "def get_data(criteria):\n",
    "    data = scrape_meqasa(1)  # ignore the argument 1\n",
    "    data = data.head(2) # our assumption; first 2 listings are new\n",
    "    \n",
    "    # we may have some criteria to filter our data on eg \"address='adenta'\"\n",
    "    if criteria:\n",
    "        data = data.query(criteria)\n",
    "    \n",
    "    # for this exercise, we'll only select these columns\n",
    "    data = data[['property', 'beds', 'area', 'garages', 'address']]\n",
    "    \n",
    "    return data"
   ]
  },
  {
   "cell_type": "code",
   "execution_count": 34,
   "metadata": {},
   "outputs": [],
   "source": [
    "def listings_producer(stream_name, data):\n",
    "        response = kinesis.put_record(\n",
    "            StreamName=stream_name,\n",
    "            Data=data,\n",
    "            PartitionKey='blossom',\n",
    "        )\n",
    "        if response['ResponseMetadata']['HTTPStatusCode'] == 200:\n",
    "            print(f\"Records pushed to {streamName} within kinesis\")\n",
    "        else:\n",
    "            print(\"Records not failed to be pushed to kinesis\")"
   ]
  },
  {
   "cell_type": "code",
   "execution_count": 35,
   "metadata": {},
   "outputs": [
    {
     "name": "stdout",
     "output_type": "stream",
     "text": [
      "Scraping page: 1 from Meqasa\n",
      "Records pushed to blossom-data-eng-michaelasante within kinesis\n",
      "Scraping page: 1 from Meqasa\n",
      "Records pushed to blossom-data-eng-michaelasante within kinesis\n",
      "Scraping page: 1 from Meqasa\n",
      "Records pushed to blossom-data-eng-michaelasante within kinesis\n",
      "Scraping page: 1 from Meqasa\n",
      "Records pushed to blossom-data-eng-michaelasante within kinesis\n",
      "Scraping page: 1 from Meqasa\n",
      "Records pushed to blossom-data-eng-michaelasante within kinesis\n",
      "Scraping page: 1 from Meqasa\n",
      "Writing failed. Exiting gracefully due to HTTPSConnectionPool(host='meqasa.com', port=443): Max retries exceeded with url: /houses-for-rent-in-ghana?w=1 (Caused by SSLError(SSLError(\"bad handshake: SysCallError(-1, 'Unexpected EOF')\")))\n"
     ]
    }
   ],
   "source": [
    "if __name__ == '__main__':\n",
    "    try:\n",
    "        while True:\n",
    "            data = get_data(None)\n",
    "            data = data.to_json()\n",
    "            listings_producer('blossom-eng-michaelasante', data)\n",
    "            time.sleep(10)\n",
    "            \n",
    "    except Exception as e:\n",
    "        print(f\"Writing failed. Exiting gracefully due to {e}\")"
   ]
  },
  {
   "cell_type": "code",
   "execution_count": 36,
   "metadata": {},
   "outputs": [],
   "source": [
    "import datetime as dt\n",
    "import json\n",
    "import time\n",
    "import boto3\n",
    "import pandas as pd"
   ]
  },
  {
   "cell_type": "code",
   "execution_count": 37,
   "metadata": {},
   "outputs": [],
   "source": [
    "kinesis = boto3.client('kinesis', region_name='us-east-2')"
   ]
  },
  {
   "cell_type": "code",
   "execution_count": 38,
   "metadata": {},
   "outputs": [],
   "source": [
    "def get_shard_iterator(stream_name, shard_id, iterator_type, date):\n",
    "    shard_response = kinesis.get_shard_iterator(\n",
    "        StreamName=stream_name, \n",
    "        ShardId=shard_id, \n",
    "        ShardIteratorType=iterator_type, \n",
    "        Timestamp=date\n",
    "    )\n",
    "\n",
    "    return shard_response['ShardIterator']"
   ]
  },
  {
   "cell_type": "code",
   "execution_count": 40,
   "metadata": {},
   "outputs": [],
   "source": [
    "def listings_consumer(next_shard_iterator):\n",
    "    start = dt.datetime.now()\n",
    "    finish = start + dt.timedelta(seconds=60)\n",
    "    \n",
    "    # we'll only consume for 60 seconds\n",
    "    while start < finish:\n",
    "        response = kinesis.get_records(\n",
    "            ShardIterator=next_shard_iterator,\n",
    "            Limit=20\n",
    "        )\n",
    "        \n",
    "        try:\n",
    "            data = response['Records'][0]['Data']\n",
    "            data = json.loads(data)\n",
    "\n",
    "            df = pd.DataFrame(data)   \n",
    "        except IndexError:\n",
    "            # this error occurs when all records have been consumed so far\n",
    "            print(\"No new records have arrived\")\n",
    "            \n",
    "        # get the next shard iterator ie. where next to get data\n",
    "        next_shard_iterator = response['NextShardIterator']\n",
    "        \n",
    "        # pause checking for new data every 5 seconds\n",
    "        time.sleep(5)"
   ]
  },
  {
   "cell_type": "code",
   "execution_count": 41,
   "metadata": {},
   "outputs": [
    {
     "name": "stdout",
     "output_type": "stream",
     "text": [
      "No new records have arrived\n",
      "No new records have arrived\n",
      "No new records have arrived\n",
      "No new records have arrived\n",
      "No new records have arrived\n",
      "No new records have arrived\n",
      "No new records have arrived\n",
      "No new records have arrived\n",
      "No new records have arrived\n",
      "No new records have arrived\n",
      "No new records have arrived\n",
      "No new records have arrived\n",
      "No new records have arrived\n",
      "No new records have arrived\n",
      "No new records have arrived\n",
      "No new records have arrived\n",
      "No new records have arrived\n",
      "No new records have arrived\n",
      "No new records have arrived\n",
      "No new records have arrived\n",
      "No new records have arrived\n",
      "No new records have arrived\n",
      "No new records have arrived\n",
      "No new records have arrived\n",
      "No new records have arrived\n",
      "No new records have arrived\n",
      "No new records have arrived\n",
      "No new records have arrived\n",
      "No new records have arrived\n",
      "No new records have arrived\n",
      "No new records have arrived\n",
      "No new records have arrived\n",
      "No new records have arrived\n",
      "No new records have arrived\n",
      "No new records have arrived\n",
      "No new records have arrived\n",
      "No new records have arrived\n",
      "No new records have arrived\n",
      "No new records have arrived\n",
      "No new records have arrived\n",
      "No new records have arrived\n",
      "No new records have arrived\n",
      "No new records have arrived\n",
      "No new records have arrived\n",
      "No new records have arrived\n",
      "No new records have arrived\n",
      "No new records have arrived\n",
      "No new records have arrived\n",
      "No new records have arrived\n",
      "No new records have arrived\n",
      "No new records have arrived\n",
      "No new records have arrived\n",
      "No new records have arrived\n",
      "No new records have arrived\n",
      "No new records have arrived\n",
      "No new records have arrived\n",
      "No new records have arrived\n",
      "No new records have arrived\n",
      "No new records have arrived\n",
      "No new records have arrived\n",
      "No new records have arrived\n",
      "No new records have arrived\n",
      "No new records have arrived\n",
      "No new records have arrived\n",
      "No new records have arrived\n",
      "No new records have arrived\n",
      "No new records have arrived\n",
      "No new records have arrived\n",
      "No new records have arrived\n",
      "No new records have arrived\n",
      "No new records have arrived\n",
      "No new records have arrived\n",
      "No new records have arrived\n",
      "No new records have arrived\n",
      "No new records have arrived\n",
      "No new records have arrived\n",
      "No new records have arrived\n",
      "No new records have arrived\n",
      "No new records have arrived\n",
      "No new records have arrived\n",
      "No new records have arrived\n",
      "No new records have arrived\n",
      "No new records have arrived\n",
      "No new records have arrived\n",
      "No new records have arrived\n",
      "No new records have arrived\n",
      "No new records have arrived\n",
      "No new records have arrived\n",
      "No new records have arrived\n",
      "No new records have arrived\n",
      "No new records have arrived\n",
      "No new records have arrived\n",
      "No new records have arrived\n",
      "No new records have arrived\n",
      "No new records have arrived\n",
      "No new records have arrived\n",
      "No new records have arrived\n",
      "No new records have arrived\n",
      "No new records have arrived\n",
      "No new records have arrived\n",
      "No new records have arrived\n",
      "No new records have arrived\n",
      "No new records have arrived\n",
      "No new records have arrived\n",
      "No new records have arrived\n",
      "No new records have arrived\n",
      "No new records have arrived\n",
      "No new records have arrived\n",
      "No new records have arrived\n",
      "No new records have arrived\n",
      "No new records have arrived\n",
      "No new records have arrived\n",
      "No new records have arrived\n",
      "No new records have arrived\n",
      "No new records have arrived\n",
      "No new records have arrived\n",
      "No new records have arrived\n",
      "No new records have arrived\n",
      "No new records have arrived\n",
      "No new records have arrived\n",
      "No new records have arrived\n",
      "No new records have arrived\n",
      "No new records have arrived\n",
      "No new records have arrived\n",
      "No new records have arrived\n",
      "No new records have arrived\n",
      "No new records have arrived\n",
      "No new records have arrived\n",
      "No new records have arrived\n",
      "No new records have arrived\n",
      "No new records have arrived\n",
      "No new records have arrived\n",
      "No new records have arrived\n",
      "No new records have arrived\n",
      "No new records have arrived\n",
      "No new records have arrived\n",
      "No new records have arrived\n",
      "No new records have arrived\n",
      "No new records have arrived\n",
      "No new records have arrived\n",
      "No new records have arrived\n",
      "No new records have arrived\n",
      "No new records have arrived\n",
      "No new records have arrived\n",
      "No new records have arrived\n",
      "No new records have arrived\n",
      "No new records have arrived\n",
      "No new records have arrived\n",
      "No new records have arrived\n",
      "No new records have arrived\n"
     ]
    },
    {
     "ename": "KeyboardInterrupt",
     "evalue": "",
     "output_type": "error",
     "traceback": [
      "\u001b[1;31m---------------------------------------------------------------------------\u001b[0m",
      "\u001b[1;31mKeyboardInterrupt\u001b[0m                         Traceback (most recent call last)",
      "\u001b[1;32m<ipython-input-41-93f60fcff7c0>\u001b[0m in \u001b[0;36m<module>\u001b[1;34m\u001b[0m\n\u001b[0;32m      6\u001b[0m \u001b[1;33m\u001b[0m\u001b[0m\n\u001b[0;32m      7\u001b[0m     \u001b[0mnext_shard_iterator\u001b[0m \u001b[1;33m=\u001b[0m \u001b[0mget_shard_iterator\u001b[0m\u001b[1;33m(\u001b[0m\u001b[0mstream_name\u001b[0m\u001b[1;33m,\u001b[0m \u001b[0mshard_id\u001b[0m\u001b[1;33m,\u001b[0m \u001b[0miterator_type\u001b[0m\u001b[1;33m,\u001b[0m \u001b[0mdate\u001b[0m\u001b[1;33m)\u001b[0m\u001b[1;33m\u001b[0m\u001b[1;33m\u001b[0m\u001b[0m\n\u001b[1;32m----> 8\u001b[1;33m     \u001b[0mlistings_consumer\u001b[0m\u001b[1;33m(\u001b[0m\u001b[0mnext_shard_iterator\u001b[0m\u001b[1;33m)\u001b[0m\u001b[1;33m\u001b[0m\u001b[1;33m\u001b[0m\u001b[0m\n\u001b[0m",
      "\u001b[1;32m<ipython-input-40-5ea62f5af7e4>\u001b[0m in \u001b[0;36mlistings_consumer\u001b[1;34m(next_shard_iterator)\u001b[0m\n\u001b[0;32m     23\u001b[0m \u001b[1;33m\u001b[0m\u001b[0m\n\u001b[0;32m     24\u001b[0m         \u001b[1;31m# pause checking for new data every 5 seconds\u001b[0m\u001b[1;33m\u001b[0m\u001b[1;33m\u001b[0m\u001b[1;33m\u001b[0m\u001b[0m\n\u001b[1;32m---> 25\u001b[1;33m         \u001b[0mtime\u001b[0m\u001b[1;33m.\u001b[0m\u001b[0msleep\u001b[0m\u001b[1;33m(\u001b[0m\u001b[1;36m5\u001b[0m\u001b[1;33m)\u001b[0m\u001b[1;33m\u001b[0m\u001b[1;33m\u001b[0m\u001b[0m\n\u001b[0m",
      "\u001b[1;31mKeyboardInterrupt\u001b[0m: "
     ]
    }
   ],
   "source": [
    "if __name__ == '__main__':\n",
    "    stream_name = 'real_estate'\n",
    "    shard_id = 'shardId-000000000000'\n",
    "    iterator_type = 'AT_TIMESTAMP'\n",
    "    date = dt.datetime.today().date().__str__()\n",
    "    \n",
    "    next_shard_iterator = get_shard_iterator(stream_name, shard_id, iterator_type, date)\n",
    "    listings_consumer(next_shard_iterator)"
   ]
  },
  {
   "cell_type": "code",
   "execution_count": null,
   "metadata": {},
   "outputs": [],
   "source": []
  }
 ],
 "metadata": {
  "kernelspec": {
   "display_name": "Python 3",
   "language": "python",
   "name": "python3"
  },
  "language_info": {
   "codemirror_mode": {
    "name": "ipython",
    "version": 3
   },
   "file_extension": ".py",
   "mimetype": "text/x-python",
   "name": "python",
   "nbconvert_exporter": "python",
   "pygments_lexer": "ipython3",
   "version": "3.7.3"
  }
 },
 "nbformat": 4,
 "nbformat_minor": 2
}
